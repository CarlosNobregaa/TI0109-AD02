{
 "cells": [
  {
   "cell_type": "markdown",
   "id": "11ac93d5-db05-4e69-bcf7-e221eb0bacb8",
   "metadata": {},
   "source": [
    "----\n",
    "## Universidade Federal do Ceará (UFC)\n",
    "## Centro de Tecnologia (CT)\n",
    "## Departamento de Engenharia de Teleinformática (DETI)\n",
    "## Curso de Engenharia de Telecomunicações (CET)\n",
    "----\n",
    "### TI0109: Introdução à Programação\n",
    "----\n",
    "#### Prof. Tarcisio Ferreira Maciel, Dr.-Ing.\n",
    "----"
   ]
  },
  {
   "cell_type": "markdown",
   "id": "b0de1d3c-b268-4c03-8e82-5f1f95d06083",
   "metadata": {
    "jp-MarkdownHeadingCollapsed": true
   },
   "source": [
    "#### Objetivos\n",
    "1. Explorar programas que expressem fórmulas matemáticas nos termos da linguagem de programação.\n",
    "2. Explorar programas que realizem validação de dados de entrada.\n",
    "3. Explorar programas que utilizem estruturas condicionais ```if ... else```.\n",
    "----"
   ]
  },
  {
   "cell_type": "markdown",
   "id": "61e48257-b03d-46b0-99d5-80b724aea39b",
   "metadata": {},
   "source": [
    "#### Observações gerais\n",
    "1. Cada questão já vem acompanhada de um modelo a ser completado.\n",
    "2. Nenhum comando de leitura de dados ou qualquer outro comando que interrompa a execução das funções que realizam os cálculos deve ser executado dentro das mesmas.\n",
    "3. Cada questão é acompanhada de um arquivo ```test_*``` que aplica testes automatizados à(s) função(ões)-chave de cada questão.\n",
    "4. Comandos de entrada de dados e testes de execução devem ser realizados utilizando a função ```main```.\n",
    "----"
   ]
  },
  {
   "cell_type": "markdown",
   "id": "5bd99660-7154-4cea-8197-da938d7b6a99",
   "metadata": {},
   "source": [
    "#### Questão 1\n",
    "\n",
    "Considerando o modelo fornecido para a questão, escreva um programa que calcule e imprima na tela o volume $V$ e área $A$ de um cone circular reto de altura $h > 0$ e raio da base $r > 0$, sendo $h$ e $r$ lidos pelo teclado. O volume $ V $ e a área $ A $ do cone são dados respectivamente por\n",
    "$$\n",
    "V = \\frac{1}{3} \\cdot \\pi \\cdot r^2 \\cdot h \\qquad \\text{e} \\qquad A = \\pi \\cdot r \\cdot (r + \\sqrt{r^2 + h^2}),\n",
    "$$\n",
    "e são calculados pelas funções ```volume(r: float, h: float) -> float | None``` e ```area(r: float, h: float) -> float | None```. A raiz quadrada $\\sqrt{x}$ de um número real $x$ pode ser calculada usando a função ```sqrt(x)``` do pacote ```math```. O valor de $ \\pi $ é pré-definido pela constante ```pi``` do mesmo pacote. Caso um entradas inválidas sejam fornecidas as funções, as mesmas devem retornar ```None```."
   ]
  },
  {
   "cell_type": "markdown",
   "id": "88959f2e-142b-41b9-ac8e-2b86ea52c2bc",
   "metadata": {},
   "source": [
    "#### Questão 2\n",
    "\n",
    "O volume $ V $ e área $ A $ de um tetraedro regular (pirâmide triangular com todas as arestas iguais) são dados\n",
    "respectivamente por\n",
    "$$\n",
    "V = \\dfrac{1}{3}\\dfrac{a^2\\sqrt{3}}{4}\\dfrac{a\\sqrt{6}}{3} \\qquad \\text{e} \\qquad A = a^2\\sqrt{3},\n",
    "$$\n",
    "em que $ a > 0 $ é o comprimento da aresta da pirâmide. A raiz quadrada $\\sqrt{x}$ de um número real $x$ pode ser\n",
    "calculada usando a função ```sqrt(x)``` do pacote ```math```. A potenciação $ x^y $ de um número real\n",
    "$ x $ por um número real $ y $ pode ser calculada usando a operação ```x**y```. Considerando o modelo fornecido para a questão, escreva um programa que leia os dados de entrada necessários e calcule o volume e área do tetraedro usando respectivamente as funções ```volume(a: float) -> float | None``` e ```area(a: float) -> float```. Caso um entradas inválidas sejam fornecidas as funções, as mesmas devem retornar ```None```."
   ]
  },
  {
   "attachments": {},
   "cell_type": "markdown",
   "id": "9499b750-059d-4b5a-b806-06041535b170",
   "metadata": {},
   "source": [
    "#### Questão 3\n",
    "\n",
    "Depois da liberação do governo para as mensalidades dos planos de saúde, as pessoas começaram a fazer pesquisas para descobrir um bom plano, não muito caro. Um vendedor de um plano de saúde apresentou a tabela a seguir. Considerando o modelo fornecido para a questão, crie um programa que entre com a idade de uma pessoa e imprima o valor que ela deverá pagar, segundo a seguinte tabela:\n",
    "\n",
    "| Idade              | Valor  |\n",
    "| :--------------------- | ---------: |\n",
    "|Até 10 anos             | R\\$ 30,00   |\n",
    "|Acima de 10 até 29 anos | R\\$ 60,00   |\n",
    "|Acima de 29 até 45 anos | R\\$ 120,00  |\n",
    "|Acima de 45 até 59 anos | R\\$ 150,00  |\n",
    "|Acima de 59 até 65 anos | R\\$ 250,00  |\n",
    "|Maior que 65 anos       | R\\$ 400,00  |\n",
    "\n",
    "O valor a ser pago deverá ser calculado pela função ```health_insurance_price(age: int) -> float | None```. Caso um valor inválido seja fornecido como entrada para a função, a mesma deve retornar ```None```."
   ]
  },
  {
   "cell_type": "markdown",
   "id": "7642c88f-0171-4f48-9806-e12b33230660",
   "metadata": {
    "jp-MarkdownHeadingCollapsed": true
   },
   "source": [
    "#### Questão 4\n",
    "\n",
    "Considerando o modelo fornecido para a questão, escreva um programa que leia um peso na Terra e o número de um planeta e imprima o valor do peso no planeta selecionado. A relação de planetas é dada a seguir juntamente com o valor das gravidades relativas à da Terra:\n",
    "\n",
    "| Número | Gravidade Relativa | Planeta |\n",
    "| :---: | :---: | :---: |\n",
    "| 1          | 0,37                   | Mercúrio    |\n",
    "| 2          | 0,88                   | Vênus       |\n",
    "| 3          | 0,38                   | Marte       |\n",
    "| 4          | 2,64                   | Júpiter     |\n",
    "| 5          | 1,15                   | Saturno     |\n",
    "| 6          | 1,17                   | Urano       |\t\n",
    "\n",
    "O cálculo do peso no planeta selecionado deve ser calculado e retornado pela função ```equiv_weight(weight: float, planet_id: int) -> float | None```. Caso um valor inválido seja fornecido como entrada para a função, a mesma deve retornar ```None```."
   ]
  },
  {
   "cell_type": "markdown",
   "id": "497f3545-ccf5-4846-be05-d3ca410dee2d",
   "metadata": {},
   "source": [
    "#### Questão 5\n",
    "\n",
    "Um número palíndromo é um número que lido da esquerda para a direita ou da direita para a esquerda tem o mesmo valor. Por exemplo, os números 131 e 2332 são palíndromos. Considerando o modelo fornecido para a questão, escreva um programa que leia um número inteiro ```N``` entre 1 e 9999 pelo teclado e determine se ele é ou não palíndromo. Para tanto crie uma função ```is_palindrome(num: int) -> bool | None```. Não utilize vetores, listas ou strings para solucionar a questão. Caso um valor inválido seja fornecido como entrada para a função, a mesma deve retornar ```None```. "
   ]
  },
  {
   "cell_type": "markdown",
   "id": "0fd586ed-c62c-4e3d-a5b3-0fda9f84937a",
   "metadata": {},
   "source": [
    "#### Questão 6\n",
    "\n",
    "Considerando o modelo fornecido para a questão, escreva um programa que receba três inteiros representando o dia, o mês e o ano de uma data e determine se os mesmos constituem uma data válida. Para determinar se uma data é ou não válida, crie uma função ```is_valid_date(dd: int, mm: int, aa: int) -> bool | None``` que retorna verdadeiro para datas válidas e falso para datas inválidas. Sabe-se que abril, junho, setembro e novembro têm 30 dias; janeiro, março, maio, julho, agosto, outubro e dezembro têm 31 dias; e fevereiro tem 28 ou 29 dias, dependendo se o ano é ou não bissexto. Um ano é bissexto se: i) é divisível por 4 mas não é divisível por 100, ou; ii) é divisível por 400. Na função ```main```, caso a data seja inválida por qualquer motivo imprima a mensagem \"Data inválida\" e caso a mesma seja válida imprima \"A data dd/mm/aaaa é válida\", em que dd, mm e aaaa são o dia, mês e ano lidos, respectivamente."
   ]
  },
  {
   "cell_type": "markdown",
   "id": "42af3720-ac94-42d5-bed7-ca3a269c2e05",
   "metadata": {},
   "source": [
    "#### Questão 7\n",
    "\n",
    "Considerando o modelo fornecido para a questão, escreva um programa que leia um horário do dia na forma de três inteiros não-negativos: um para as horas, outro para os minutos e outro para os segundos. Considere o formato de 24h e considerando períodos de 6 horas imprima se o horário fornecido encontra-se na madrugada (primeiras 6 horas do dia), manhã, tarde, ou noite (últimas 6 horas do dia). Para tanto, considere a função ```day_period(hh: int, mm: int, ss: int) -> int | None``` que retorna 0, 1, 2 ou 3 para madrugada, manhã, tarde e noite, respectivamente. Caso dados inválidos sejam fornecidos como entrada para a função, a mesma deve retornar ```None```."
   ]
  },
  {
   "cell_type": "markdown",
   "id": "c1b32496-8a26-4608-a790-289b739c9d06",
   "metadata": {},
   "source": [
    "#### Questão 8\n",
    "\n",
    "Quando toma-se dinheiro emprestado, tipicamente o empréstimo é pago através do pagamento de parcelas. Suponha que o valor do empréstimo é $ L $, $ r $ é taxa de juros ao ano, $ m $ é número de parcelas por ano e que o empréstimo é por $ t $ anos, e que $ i = \\frac{r}{m} $. Então o valor da parcela é\n",
    "$$\n",
    "R = \\frac{L\\cdot i}{1-(1+i)^{-mt}}.\n",
    "$$\n",
    "O balanço do empréstimo após $ k $ parcelas pagas pode ser expresso como\n",
    "$$\n",
    "L' = R\\left(\\frac{1-(1+i)^{-(mt-k)}}{i}\\right).\n",
    "$$\n",
    "Considerando o modelo fornecido para a questão, escreva uma função ```pmt(L: float, i: float, m: int, t: int) -> float | None``` que recebe $ L $, $ r $, $ m $ e $ t $ e que calcula e retorna o valor da parcela do empréstimo. Escreva também uma função ```balance(R: float, i: float, m: int, t: int, k: int) -> float | None``` que recebe $ R $, $ i $, $ m $, $ t $ e $ k $ e que calcula e retorna o valor do balanco do empréstimo. Na função ```main``` leia os valores de $ L $, $ r $, $ m $, $ t $ e $ k $, calcule e imprima o valor da parcela e o balanco do empréstimo após $ k $ parcelas pagas. Caso dados inválidos sejam fornecidos como entrada para a função, a mesma deve retornar ```None```."
   ]
  },
  {
   "cell_type": "markdown",
   "id": "41ce6e70-2cbe-4b65-b19d-90119272451e",
   "metadata": {
    "jp-MarkdownHeadingCollapsed": true
   },
   "source": [
    "#### Questão 9\n",
    "\n",
    "Uma prefeitura abriu uma linha de crédito para seus funcionários estatutários. O valor máximo da prestação não poderá ultrapassar 30% do salário bruto do funcionário. Faça um programa que permita entrar com o salário bruto e o valor da prestação, e informar se o empréstimo pode (```True```) ou não (```False```) ser concedido. Considerando o modelo fornecido para a questão, escreva um programa que lê o valor do salário bruto e o valor da prestação e usando a função ```approve_loan(salary: float, installment: float) -> bool | None``` determine se o empréstimo pode ou não ser concedido. Caso os dados fornecidos não sejam válidos, a função ```approve_loan``` deve retornar ```None```."
   ]
  },
  {
   "cell_type": "markdown",
   "id": "81c3a253-da23-45e8-a0a7-166bcb3a5efc",
   "metadata": {},
   "source": [
    "#### Questão 10\n",
    "\n",
    "A CEF concederá um crédito especial com juros de 2\\% aos seus clientes de acordo com o saldo médio no último ano. Considerando o modelo fornecido para a questão, faça um programa que leia o saldo médio de um cliente e calcule o valor do crédito de acordo com a tabela a seguir. Calcule o valor do crédito usando a função ```credit(balance: float) -> float | None```. Imprima uma mensagem informando o saldo médio e o valor de crédito. Caso os dados fornecidos não sejam válidos, a função ```approve_loan``` deve retornar ```None```.\n",
    "| Saldo Médio | Percentual|\n",
    "| ---: | :--- |\n",
    "De 0 a 500     | Nenhum crédito               |\n",
    "De 501 a 1000  | 30\\% do valor do saldo médio |\n",
    "De 1001 a 3000 | 40\\% do valor do saldo médio |\n",
    "Acima de 3001  | 50\\% do valor do saldo médio |"
   ]
  }
 ],
 "metadata": {
  "kernelspec": {
   "display_name": "Python 3 (ipykernel)",
   "language": "python",
   "name": "python3"
  },
  "language_info": {
   "codemirror_mode": {
    "name": "ipython",
    "version": 3
   },
   "file_extension": ".py",
   "mimetype": "text/x-python",
   "name": "python",
   "nbconvert_exporter": "python",
   "pygments_lexer": "ipython3",
   "version": "3.10.13"
  }
 },
 "nbformat": 4,
 "nbformat_minor": 5
}
